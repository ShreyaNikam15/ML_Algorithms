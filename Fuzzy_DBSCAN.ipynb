{
  "nbformat": 4,
  "nbformat_minor": 0,
  "metadata": {
    "colab": {
      "provenance": []
    },
    "kernelspec": {
      "name": "python3",
      "display_name": "Python 3"
    },
    "language_info": {
      "name": "python"
    }
  },
  "cells": [
    {
      "cell_type": "markdown",
      "source": [
        "#Fuzzy"
      ],
      "metadata": {
        "id": "K0txw0lJlB-b"
      }
    },
    {
      "cell_type": "code",
      "source": [
        "# !pip install sklearn\n",
        "!pip install scikit-fuzzy"
      ],
      "metadata": {
        "id": "-T03IH4GlNcD",
        "outputId": "39c37eaf-bdf9-459c-a496-4907f0b86315",
        "colab": {
          "base_uri": "https://localhost:8080/"
        }
      },
      "execution_count": null,
      "outputs": [
        {
          "output_type": "stream",
          "name": "stdout",
          "text": [
            "Collecting scikit-fuzzy\n",
            "  Downloading scikit-fuzzy-0.4.2.tar.gz (993 kB)\n",
            "\u001b[2K     \u001b[90m━━━━━━━━━━━━━━━━━━━━━━━━━━━━━━━━━━━━━━━━\u001b[0m \u001b[32m994.0/994.0 kB\u001b[0m \u001b[31m4.4 MB/s\u001b[0m eta \u001b[36m0:00:00\u001b[0m\n",
            "\u001b[?25h  Preparing metadata (setup.py) ... \u001b[?25l\u001b[?25hdone\n",
            "Requirement already satisfied: numpy>=1.6.0 in /usr/local/lib/python3.10/dist-packages (from scikit-fuzzy) (1.25.2)\n",
            "Requirement already satisfied: scipy>=0.9.0 in /usr/local/lib/python3.10/dist-packages (from scikit-fuzzy) (1.11.4)\n",
            "Requirement already satisfied: networkx>=1.9.0 in /usr/local/lib/python3.10/dist-packages (from scikit-fuzzy) (3.2.1)\n",
            "Building wheels for collected packages: scikit-fuzzy\n",
            "  Building wheel for scikit-fuzzy (setup.py) ... \u001b[?25l\u001b[?25hdone\n",
            "  Created wheel for scikit-fuzzy: filename=scikit_fuzzy-0.4.2-py3-none-any.whl size=894078 sha256=49e90e4a4ecce66cce5ef0ce9f554aec9f9e43cf6b082d5b604ddd606fea2c8c\n",
            "  Stored in directory: /root/.cache/pip/wheels/4f/86/1b/dfd97134a2c8313e519bcebd95d3fedc7be7944db022094bc8\n",
            "Successfully built scikit-fuzzy\n",
            "Installing collected packages: scikit-fuzzy\n",
            "Successfully installed scikit-fuzzy-0.4.2\n"
          ]
        }
      ]
    },
    {
      "cell_type": "code",
      "execution_count": null,
      "metadata": {
        "id": "8ntV4qMWk_Ps"
      },
      "outputs": [],
      "source": [
        "import numpy as np\n",
        "import skfuzzy as fuzz\n",
        "from skfuzzy import control as ctrl\n",
        "\n",
        "# Generate some example data\n",
        "np.random.seed(0) # Sets the seed for NumPy's random number generator to ensure reproducibility.\n",
        "data = np.random.rand(100, 2) # Generates a 2D array of random numbers with 100 rows and 2 columns, representing example data points."
      ]
    },
    {
      "cell_type": "code",
      "source": [
        "data"
      ],
      "metadata": {
        "id": "ppRxiuvXlcVR",
        "outputId": "ad548855-5fc4-455c-aefb-8ed9ae7311e7",
        "colab": {
          "base_uri": "https://localhost:8080/"
        }
      },
      "execution_count": null,
      "outputs": [
        {
          "output_type": "execute_result",
          "data": {
            "text/plain": [
              "array([[0.5488135 , 0.71518937],\n",
              "       [0.60276338, 0.54488318],\n",
              "       [0.4236548 , 0.64589411],\n",
              "       [0.43758721, 0.891773  ],\n",
              "       [0.96366276, 0.38344152],\n",
              "       [0.79172504, 0.52889492],\n",
              "       [0.56804456, 0.92559664],\n",
              "       [0.07103606, 0.0871293 ],\n",
              "       [0.0202184 , 0.83261985],\n",
              "       [0.77815675, 0.87001215],\n",
              "       [0.97861834, 0.79915856],\n",
              "       [0.46147936, 0.78052918],\n",
              "       [0.11827443, 0.63992102],\n",
              "       [0.14335329, 0.94466892],\n",
              "       [0.52184832, 0.41466194],\n",
              "       [0.26455561, 0.77423369],\n",
              "       [0.45615033, 0.56843395],\n",
              "       [0.0187898 , 0.6176355 ],\n",
              "       [0.61209572, 0.616934  ],\n",
              "       [0.94374808, 0.6818203 ],\n",
              "       [0.3595079 , 0.43703195],\n",
              "       [0.6976312 , 0.06022547],\n",
              "       [0.66676672, 0.67063787],\n",
              "       [0.21038256, 0.1289263 ],\n",
              "       [0.31542835, 0.36371077],\n",
              "       [0.57019677, 0.43860151],\n",
              "       [0.98837384, 0.10204481],\n",
              "       [0.20887676, 0.16130952],\n",
              "       [0.65310833, 0.2532916 ],\n",
              "       [0.46631077, 0.24442559],\n",
              "       [0.15896958, 0.11037514],\n",
              "       [0.65632959, 0.13818295],\n",
              "       [0.19658236, 0.36872517],\n",
              "       [0.82099323, 0.09710128],\n",
              "       [0.83794491, 0.09609841],\n",
              "       [0.97645947, 0.4686512 ],\n",
              "       [0.97676109, 0.60484552],\n",
              "       [0.73926358, 0.03918779],\n",
              "       [0.28280696, 0.12019656],\n",
              "       [0.2961402 , 0.11872772],\n",
              "       [0.31798318, 0.41426299],\n",
              "       [0.0641475 , 0.69247212],\n",
              "       [0.56660145, 0.26538949],\n",
              "       [0.52324805, 0.09394051],\n",
              "       [0.5759465 , 0.9292962 ],\n",
              "       [0.31856895, 0.66741038],\n",
              "       [0.13179786, 0.7163272 ],\n",
              "       [0.28940609, 0.18319136],\n",
              "       [0.58651293, 0.02010755],\n",
              "       [0.82894003, 0.00469548],\n",
              "       [0.67781654, 0.27000797],\n",
              "       [0.73519402, 0.96218855],\n",
              "       [0.24875314, 0.57615733],\n",
              "       [0.59204193, 0.57225191],\n",
              "       [0.22308163, 0.95274901],\n",
              "       [0.44712538, 0.84640867],\n",
              "       [0.69947928, 0.29743695],\n",
              "       [0.81379782, 0.39650574],\n",
              "       [0.8811032 , 0.58127287],\n",
              "       [0.88173536, 0.69253159],\n",
              "       [0.72525428, 0.50132438],\n",
              "       [0.95608363, 0.6439902 ],\n",
              "       [0.42385505, 0.60639321],\n",
              "       [0.0191932 , 0.30157482],\n",
              "       [0.66017354, 0.29007761],\n",
              "       [0.61801543, 0.4287687 ],\n",
              "       [0.13547406, 0.29828233],\n",
              "       [0.56996491, 0.59087276],\n",
              "       [0.57432525, 0.65320082],\n",
              "       [0.65210327, 0.43141844],\n",
              "       [0.8965466 , 0.36756187],\n",
              "       [0.43586493, 0.89192336],\n",
              "       [0.80619399, 0.70388858],\n",
              "       [0.10022689, 0.91948261],\n",
              "       [0.7142413 , 0.99884701],\n",
              "       [0.1494483 , 0.86812606],\n",
              "       [0.16249293, 0.61555956],\n",
              "       [0.12381998, 0.84800823],\n",
              "       [0.80731896, 0.56910074],\n",
              "       [0.4071833 , 0.069167  ],\n",
              "       [0.69742877, 0.45354268],\n",
              "       [0.7220556 , 0.86638233],\n",
              "       [0.97552151, 0.85580334],\n",
              "       [0.01171408, 0.35997806],\n",
              "       [0.72999056, 0.17162968],\n",
              "       [0.52103661, 0.05433799],\n",
              "       [0.19999652, 0.01852179],\n",
              "       [0.7936977 , 0.22392469],\n",
              "       [0.34535168, 0.92808129],\n",
              "       [0.7044144 , 0.03183893],\n",
              "       [0.16469416, 0.6214784 ],\n",
              "       [0.57722859, 0.23789282],\n",
              "       [0.934214  , 0.61396596],\n",
              "       [0.5356328 , 0.58990998],\n",
              "       [0.73012203, 0.311945  ],\n",
              "       [0.39822106, 0.20984375],\n",
              "       [0.18619301, 0.94437239],\n",
              "       [0.7395508 , 0.49045881],\n",
              "       [0.22741463, 0.25435648],\n",
              "       [0.05802916, 0.43441663]])"
            ]
          },
          "metadata": {},
          "execution_count": 3
        }
      ]
    },
    {
      "cell_type": "code",
      "source": [
        "# Define the number of clusters\n",
        "n_clusters = 3"
      ],
      "metadata": {
        "id": "Ay4xuNH2lHYr"
      },
      "execution_count": null,
      "outputs": []
    },
    {
      "cell_type": "code",
      "source": [
        "# Apply fuzzy c-means clustering\n",
        "cntr, u, u0, d, jm, p, fpc = fuzz.cluster.cmeans(\n",
        "    data.T, n_clusters, 2, error=0.005, maxiter=1000, init=None\n",
        ")"
      ],
      "metadata": {
        "id": "sbDfih0rlIy6"
      },
      "execution_count": null,
      "outputs": []
    },
    {
      "cell_type": "code",
      "source": [
        "# Predict cluster membership for each data point\n",
        "cluster_membership = np.argmax(u, axis=0)"
      ],
      "metadata": {
        "id": "tD0QSYcblJ--"
      },
      "execution_count": null,
      "outputs": []
    },
    {
      "cell_type": "code",
      "source": [
        "# Print the cluster centers\n",
        "print('Cluster Centers:', cntr)\n",
        "\n",
        "# Print the cluster membership for each data point\n",
        "print('Cluster Membership:', cluster_membership)"
      ],
      "metadata": {
        "id": "NSuVr9PPlLKQ"
      },
      "execution_count": null,
      "outputs": []
    },
    {
      "cell_type": "markdown",
      "source": [
        "# DBSCAN"
      ],
      "metadata": {
        "id": "fO40ZexDmG5w"
      }
    },
    {
      "cell_type": "code",
      "source": [
        "import matplotlib.pyplot as plt\n",
        "import numpy as np\n",
        "from sklearn.cluster import DBSCAN\n",
        "from sklearn import metrics\n",
        "from sklearn.datasets import make_blobs\n",
        "from sklearn.preprocessing import StandardScaler\n",
        "from sklearn import datasets\n"
      ],
      "metadata": {
        "id": "f7yeCKSwlLqk"
      },
      "execution_count": null,
      "outputs": []
    },
    {
      "cell_type": "code",
      "source": [
        "# Load data in X\n",
        "X, y_true = make_blobs(n_samples=200, centers=3,\n",
        "\t\t\t\t\tcluster_std=0.50, random_state=2)\n"
      ],
      "metadata": {
        "id": "ccO0orEmmU9K"
      },
      "execution_count": null,
      "outputs": []
    },
    {
      "cell_type": "code",
      "source": [
        "db = DBSCAN(eps=0.3, min_samples=10).fit(X)\n",
        "core_samples_mask = np.zeros_like(db.labels_, dtype=bool)\n",
        "core_samples_mask[db.core_sample_indices_] = True\n",
        "labels = db.labels_\n",
        "\n",
        "# Number of clusters in labels, ignoring noise if present.\n",
        "n_clusters_ = len(set(labels)) - (1 if -1 in labels else 0)\n",
        "\n",
        "# Plot result\n",
        "\n",
        "# Black removed and is used for noise instead.\n",
        "unique_labels = set(labels)\n",
        "colors = ['y', 'b', 'g', 'r']\n",
        "print(colors)\n",
        "for k, col in zip(unique_labels, colors):\n",
        "\tif k == -1:\n",
        "\t\t# Black used for noise.\n",
        "\t\tcol = 'k'\n",
        "\n",
        "\tclass_member_mask = (labels == k)\n",
        "\n",
        "\txy = X[class_member_mask & core_samples_mask]\n",
        "\tplt.plot(xy[:, 0], xy[:, 1], 'o', markerfacecolor=col,\n",
        "\t\t\tmarkeredgecolor='k',\n",
        "\t\t\tmarkersize=6)\n",
        "\n",
        "\txy = X[class_member_mask & ~core_samples_mask]\n",
        "\tplt.plot(xy[:, 0], xy[:, 1], 'o', markerfacecolor=col,\n",
        "\t\t\tmarkeredgecolor='k',\n",
        "\t\t\tmarkersize=6)\n",
        "\n",
        "plt.title('number of clusters: %d' % n_clusters_)\n",
        "plt.show()\n"
      ],
      "metadata": {
        "colab": {
          "base_uri": "https://localhost:8080/",
          "height": 469
        },
        "id": "8_7ODGPamW7X",
        "outputId": "ee0a515b-d5c3-46ff-b136-56750bcf0213"
      },
      "execution_count": null,
      "outputs": [
        {
          "output_type": "stream",
          "name": "stdout",
          "text": [
            "['y', 'b', 'g', 'r']\n"
          ]
        },
        {
          "output_type": "display_data",
          "data": {
            "text/plain": [
              "<Figure size 640x480 with 1 Axes>"
            ],
            "image/png": "[encoded data removed]"
          },
          "metadata": {}
        }
      ]
    }
  ]
}